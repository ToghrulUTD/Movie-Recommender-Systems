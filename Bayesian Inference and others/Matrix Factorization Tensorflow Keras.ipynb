{
  "nbformat": 4,
  "nbformat_minor": 0,
  "metadata": {
    "colab": {
      "provenance": []
    },
    "kernelspec": {
      "name": "python3",
      "display_name": "Python 3"
    },
    "language_info": {
      "name": "python"
    },
    "accelerator": "GPU",
    "gpuClass": "standard"
  },
  "cells": [
    {
      "cell_type": "markdown",
      "source": [
        "# Matrix Factorization - Notes\n",
        "\n",
        "We want to express the nxm matrix R as a product of two smaller matrices, i.e., $$\\hat{R} = W U^T$$\n",
        "where W is nXk and U is mxk where k is much smaller than n and m (usually between 10 and 15). This allows us to reduce the memory by storing only $U$ and $W$ instead of large matrix $R$.\n",
        "\n",
        "This follows from SVD which  generalizes the eigen decomposition of a square normal matrix with an orthonormal eigenbasis to any \n",
        "nxm matrix. \n",
        "\n",
        "Every element of Matrix $\\hat{R}$, i.e., $r_{i,j}$, represents the correspondence (similarity) between row $i$ of $W$ and row $j$ of $U$ matrices.\n",
        "\n",
        "For instance, in the movie recommendation example, k elements of $W$ may represent features of the movies such as how much action, comedy or other categories the movie contains. Similarly, k elements of $U$ represents how much a user likes actiion, comedy or other elemens in the same order.\n",
        "\n"
      ],
      "metadata": {
        "id": "XTDGXD1vadov"
      }
    },
    {
      "cell_type": "markdown",
      "source": [
        "## Squared Loss Term\n",
        "\n",
        "$$ J = \\sum_{i,j\\in\\Omega} (r_{i,j}-\\hat{r}_{i,j})^2 = \\sum_{i,j\\in\\Omega} (r_{i,j}- w_i^Tu_j)^2\n",
        "$$ where $w$ and $u$ are column vectors.\n",
        "\n",
        "We can use gradient descent algorithm to adjust weights $w$ and $u$ until we converge to optimal loss. Taking the derivative w.r.t $w$ gives\n",
        "$$\\frac{\\partial J}{\\partial w_i} = -2\\sum_{j\\in\\Psi_i}(r_{ij}- w_i^Tu_j)u_j = 0\n",
        "$$ the first order condition.\n",
        "Using this we get,\n",
        "$$ \\sum_{j\\in\\Psi_i}(w_i^Tu_j)u_j =  \\sum_{j\\in\\Psi_i}r_{ij}u_j\\\\\n",
        "\\implies w_i = \\Bigg(\\sum_{j\\in\\Psi_i} u_ju_j^T\\Bigg)^{-1}\\sum_{j\\in\\Psi_i}r_{ij}u_j\n",
        "$$\n",
        "\n",
        "This can be solved using numpy `x = np.linalgl.solve(A,b)` which solves $Ax = b$ system of linear equations.\n",
        "Similarly, since the function is symmetric in u and w, following the same steps, we get\n",
        "$$u_j = \\Bigg(\\sum_{i\\in\\Omega_j} w_iw_i^T\\Bigg)^{-1}\\sum_{i\\in\\Omega_j}r_{ij}w_i\n",
        "$$\n",
        "\n",
        "We have two-way dependency, the solutions depend on each other. The algorithm will start with random initialization for w and u. In the loop, we use these two formulas to update w and u in sequential order (alternating least squares). At each iteration, the model gets closer to the optimal values, and it does not matter whether we start with u or w first. "
      ],
      "metadata": {
        "id": "VJIURA7UebiJ"
      }
    },
    {
      "cell_type": "markdown",
      "source": [
        "# Training\n",
        "\n",
        "Alternating Least Squares\n",
        "\n",
        "$$\\hat{r}_{ij} = w_i^Tu_j + b_i+c_j+\\mu\\\\\n",
        "b_i = \\text{ user bias}\\\\\n",
        "c_j = \\text{ item bias}\\\\\n",
        "\\mu = \\text{ global mean of the train set}$$\n",
        "\n",
        "User bias and item (e.g., movie,product) bias accounts for the fixed differences of the users and items.\n",
        "\n",
        "The Loss function can be written as \n",
        "$$ J = \\sum_{i,j\\in\\Omega}(r_{ij}-\\hat{r}_{ij})^2\\\\\n",
        "\\hat{r}_{ij}= w_i^Tu_j+b_i+c_j+\\mu\\\\\n",
        "\\implies \\frac{\\partial J}{\\partial w_i} = 2\\sum_{j\\in\\Psi_i}(r_{ij} - w_i^Tu_j- b_i- c_j -\\mu)u_j = 0\\\\\n",
        "\\implies w_i = \\Bigg(\\sum_{j\\in\\Psi_i}u_j^Tu_j\\Bigg)^{-1}\\sum_{j\\in\\Psi_i}(r_{ij} - b_i- c_j -\\mu)u_j$$\n",
        "\n",
        "Differentiating the loss function with respect to $b_i$, $c_j$, and $u_j$, we can find the their closed form solution in the same way."
      ],
      "metadata": {
        "id": "EMNEeubiTdSm"
      }
    },
    {
      "cell_type": "markdown",
      "source": [
        "# Regularization\n",
        "Add regularization to matrix factorization to avoid overfitting due to the sparsity of the matrix.\n",
        "\n",
        "$$J = J = \\sum_{i,j\\in\\Omega}(r_{ij}-\\hat{r}_{ij})^2 + \\lambda(||U||_F^2+||W||_F^2+||b||_2^2+||c||_2^2)$$\n",
        "where F stands for Frobenius norm - matrix equivalent of l2 norm.\n",
        "\n",
        "This helps to avoid having very large weights.\n",
        "\n",
        "The solution to the first order condition will be as $$\n",
        "w_i = \\Bigg(\\sum_{j\\in\\Psi_i}u_j^Tu_j + \\lambda I\\Bigg)^{-1}\\sum_{j\\in\\Psi_i}(r_{ij} - b_i- c_j -\\mu)u_j$$\n",
        "wher $I$ stands for the indentity vector."
      ],
      "metadata": {
        "id": "C0vQFoW_Ydrp"
      }
    },
    {
      "cell_type": "markdown",
      "source": [],
      "metadata": {
        "id": "nmrux_JzcXtU"
      }
    },
    {
      "cell_type": "markdown",
      "source": [
        "# Implementation\n",
        "\n",
        "1. Load the data\n",
        "2. Initialize the parameters\n",
        "3. Implement training algorithm to update parameters based on Cost function gradients\n",
        "4. Calculate MSE for the train/test"
      ],
      "metadata": {
        "id": "Ykszzj6ac1lV"
      }
    },
    {
      "cell_type": "markdown",
      "source": [
        "### Preprocess the data\n",
        "1. Preprocess movie and user ids\n",
        "2. Shrink the dataset by selecting top n users and m movies\n",
        "3. Convert dataframe to user, movies, and rating dictionaries to represent the sparse rating matrix"
      ],
      "metadata": {
        "id": "fk5YQyy4dQaC"
      }
    },
    {
      "cell_type": "code",
      "execution_count": null,
      "metadata": {
        "id": "lDgAbEv5ZFte"
      },
      "outputs": [],
      "source": [
        "import zipfile\n",
        "zipref = zipfile.ZipFile('movielens_ratings.zip')\n",
        "zipref.extractall()\n",
        "zipref.close()"
      ]
    },
    {
      "cell_type": "code",
      "source": [
        "import pandas as pd\n",
        "from collections import Counter\n",
        "\n",
        "# Read the data\n",
        "ratings = pd.read_csv('rating.csv')  "
      ],
      "metadata": {
        "id": "X5XNZReN1AQ_"
      },
      "execution_count": null,
      "outputs": []
    },
    {
      "cell_type": "code",
      "source": [
        "# Preprocess user ids\n",
        "ratings['userId'] = ratings['userId']-1        \n",
        "# Preprocess movie ids\n",
        "movie_ids = {movie:id for id, movie in enumerate(set(ratings.movieId.to_list()))}\n",
        "ratings['movieId'] = ratings['movieId'].apply(lambda x: movie_ids[x])"
      ],
      "metadata": {
        "id": "MlUAXWEk1AT6"
      },
      "execution_count": null,
      "outputs": []
    },
    {
      "cell_type": "code",
      "source": [
        "# Select top n users and m movies\n",
        "n = 5000\n",
        "m = 1000\n",
        "top_users = ratings.userId.value_counts().index[:n]\n",
        "top_movies = ratings.movieId.value_counts().index[:m]\n",
        "\n",
        "# Create a subset of ratings dataframe with top n and m\n",
        "subset = ratings[(ratings.userId.isin(top_users))&(ratings.movieId.isin(top_movies))]\n",
        "\n",
        "# Write the subset dataframe to a csv file\n",
        "subset.to_csv('small_ratings.csv', index=False)"
      ],
      "metadata": {
        "id": "glE1la1626dn"
      },
      "execution_count": null,
      "outputs": []
    },
    {
      "cell_type": "code",
      "source": [
        "import numpy as np\n",
        "import pickle\n",
        "from sklearn.model_selection import train_test_split\n",
        "\n",
        "# Load and split the dataset\n",
        "ratings = pd.read_csv('small_ratings.csv')  # load the subset data\n",
        "train, test = train_test_split(ratings, test_size = 0.2, shuffle = True)"
      ],
      "metadata": {
        "id": "z_EnJxy15BKh"
      },
      "execution_count": null,
      "outputs": []
    },
    {
      "cell_type": "code",
      "source": [
        "# Initialize users, movies, ratings dictionaries\n",
        "user2movie, movie2user, user_movie_rating = {}, {}, {}\n",
        "\n",
        "# Create a function to iterate over the rows and update the dictionaries\n",
        "from tqdm import tqdm\n",
        "for row in tqdm(train.values):\n",
        "  if count % 100000 == 0: print(\"processed: %.3f\" % (float(count)/cutoff))\n",
        "  i,j = row[0], row[1]\n",
        "\n",
        "  # Update user2movie dictionary\n",
        "  if i not in user2movie: user2movie[i]=[j]\n",
        "  else: user2movie[i].append(j)\n",
        "\n",
        "  # Update movie2user dictionary\n",
        "  if j not in movie2user: movie2user[j]=[i]\n",
        "  else: movie2user[j].append(i)\n",
        "\n",
        "  # Update usermovie2rating\n",
        "  user_movie_rating[(i,j)] = row[2]"
      ],
      "metadata": {
        "colab": {
          "base_uri": "https://localhost:8080/"
        },
        "id": "rj15nANuMR9j",
        "outputId": "937e9c0d-cdbf-4cdf-d1c5-5eb64df241a6"
      },
      "execution_count": null,
      "outputs": [
        {
          "output_type": "stream",
          "name": "stderr",
          "text": [
            "100%|██████████| 1882907/1882907 [00:05<00:00, 337348.53it/s]\n"
          ]
        }
      ]
    },
    {
      "cell_type": "code",
      "source": [
        "# Update usermovie2rating with test data\n",
        "user_movie_rating_test = {}\n",
        "for row in tqdm(test.values):\n",
        "  i,j = row[0], row[1]\n",
        "  user_movie_rating_test[(i,j)] = row[2]"
      ],
      "metadata": {
        "colab": {
          "base_uri": "https://localhost:8080/"
        },
        "id": "9CkaAFBoQHg2",
        "outputId": "03cbcd2d-d1c2-4997-dc9c-394fd81e9cff"
      },
      "execution_count": null,
      "outputs": [
        {
          "output_type": "stream",
          "name": "stderr",
          "text": [
            "100%|██████████| 470727/470727 [00:00<00:00, 578642.83it/s]\n"
          ]
        }
      ]
    },
    {
      "cell_type": "code",
      "source": [
        "# Confirm the length of the dictionaries are correct\n",
        "assert len(user2movie)==n\n",
        "assert  len(movie2user)==m \n",
        "assert len(user_movie_rating) + len(user_movie_rating_test) == len(ratings)"
      ],
      "metadata": {
        "id": "PrR1EtrMRHB1"
      },
      "execution_count": null,
      "outputs": []
    },
    {
      "cell_type": "code",
      "source": [
        "# Save the dictionaries wi th pickle\n",
        "import joblib\n",
        "joblib.dump([user2movie, movie2user, user_movie_rating, user_movie_rating_test], 'dictionaries.json')"
      ],
      "metadata": {
        "id": "Unj_JxKgSHDG"
      },
      "execution_count": null,
      "outputs": []
    },
    {
      "cell_type": "code",
      "source": [
        "# Load the pickled dictionaries\n",
        "import joblib\n",
        "user2movie, movie2user, user_movie_rating, user_movie_rating_test = joblib.load('dictionaries.json')\n",
        "\n",
        "# Covert dictionaries to the suitable form for dot product\n",
        "import numpy as np\n",
        "user2movierating = {}\n",
        "for i, movies in user2movie.items():\n",
        "  r = np.array([user_movie_rating[(i,j)] for j in movies])\n",
        "  user2movierating[i] = (movies, r)\n",
        "movie2userrating = {}\n",
        "for j, users in movie2user.items():\n",
        "  r = np.array([user_movie_rating[(i,j)] for i in users])\n",
        "  movie2userrating[j] = (users, r)\n",
        "\n",
        "movie2userrating_test = {}\n",
        "for (i, j), r in user_movie_rating_test.items():\n",
        "  if j not in user_movie_rating_test:\n",
        "    movie2userrating_test[j] = [[i], [r]]\n",
        "  else:\n",
        "    movie2userrating_test[j][0].append(i)\n",
        "    movie2userrating_test[j][1].append(r)\n",
        "for j, (users, r) in movie2userrating_test.items():\n",
        "  movie2userrating_test[j][1] = np.array(r)"
      ],
      "metadata": {
        "id": "f9jgvFgcSuQg"
      },
      "execution_count": null,
      "outputs": []
    },
    {
      "cell_type": "markdown",
      "source": [
        "### Alternating Least Squares\n",
        "\n",
        "This is an implementation of the MF algorithm without from scratch. Since it does not use sparse matrices and vector operations, it is not very scalable, but performs well on smaller datas."
      ],
      "metadata": {
        "id": "O6APe3r1O8cj"
      }
    },
    {
      "cell_type": "code",
      "source": [
        "# Source https://github.com/lazyprogrammer/machine_learning_examples/blob/master/recommenders/mf2.py\n",
        "\n",
        "# Load the pickled dictionaries\n",
        "import matplotlib.pyplot as plt\n",
        "import numpy as np\n",
        "from datetime import datetime\n",
        "\n",
        "# Get the dimensions of weights and biases\n",
        "N = np.max(list(user2movie.keys())) + 1\n",
        "# the test set may contain movies the train set doesn't have data on\n",
        "m1 = np.max(list(movie2user.keys()))\n",
        "m2 = np.max([m for (u, m), r in user_movie_rating_test.items()])\n",
        "M = max(m1, m2) + 1\n",
        "print(\"N:\", N, \"M:\", M)\n",
        "\n",
        "# Initialize variables\n",
        "K = 10 # latent dimensionality\n",
        "W = np.random.randn(N, K)\n",
        "b = np.zeros(N)\n",
        "U = np.random.randn(M, K)\n",
        "c = np.zeros(M)\n",
        "mu = np.mean(list(user_movie_rating.values()))\n",
        "\n",
        "\n",
        "# Define loss function\n",
        "def get_loss(m2u):\n",
        "  # d: movie_id -> (user_ids, ratings)\n",
        "  N = 0.\n",
        "  sse = 0\n",
        "  for j, (u_ids, r) in m2u.items():\n",
        "    p = W[u_ids].dot(U[j]) + b[u_ids] + c[j] + mu\n",
        "    delta = p - r\n",
        "    sse += delta.dot(delta)\n",
        "    N += len(r)\n",
        "  return sse / N\n",
        "\n",
        "# train the parameters\n",
        "epochs = 25\n",
        "reg = 20. # regularization penalty\n",
        "train_losses = []\n",
        "test_losses = []\n",
        "for epoch in range(epochs):\n",
        "  print(\"epoch:\", epoch)\n",
        "  epoch_start = datetime.now()\n",
        "  # perform updates\n",
        "\n",
        "  # update W and b\n",
        "  t0 = datetime.now()\n",
        "  for i in user2movierating:\n",
        "    try:\n",
        "      m_ids, r = user2movierating[i]\n",
        "      matrix = U[m_ids].T.dot(U[m_ids]) + np.eye(K) * reg\n",
        "      vector = (r - b[i] - c[m_ids] - mu).dot(U[m_ids])\n",
        "      bi = (r - U[m_ids].dot(W[i]) - c[m_ids] - mu).sum()\n",
        "\n",
        "      # set the updates\n",
        "      W[i] = np.linalg.solve(matrix, vector)\n",
        "      b[i] = bi / (len(user2movie[i]) + reg)\n",
        "\n",
        "      if i % (N//10) == 0:\n",
        "        print(\"i:\", i, \"N:\", N)\n",
        "    except KeyError:\n",
        "      pass\n",
        "  print(\"updated W and b:\", datetime.now() - t0)\n",
        "\n",
        "\n",
        "  # update U and c\n",
        "  t0 = datetime.now()\n",
        "  for j in movie2userrating:\n",
        "    try:\n",
        "      u_ids, r = movie2userrating[j]\n",
        "      matrix = W[u_ids].T.dot(W[u_ids]) + np.eye(K) * reg\n",
        "      vector = (r - b[u_ids] - c[j] - mu).dot(W[u_ids])\n",
        "      cj = (r - W[u_ids].dot(U[j]) - b[u_ids] - mu).sum()\n",
        "\n",
        "      # set the updates\n",
        "      U[j] = np.linalg.solve(matrix, vector)\n",
        "      c[j] = cj / (len(movie2user[j]) + reg)\n",
        "\n",
        "      if j % (M//10) == 0:\n",
        "        print(\"j:\", j, \"M:\", M)\n",
        "    except KeyError:\n",
        "      # possible not to have any ratings for a movie\n",
        "      pass\n",
        "  print(\"updated U and c:\", datetime.now() - t0)\n",
        "  print(\"epoch duration:\", datetime.now() - epoch_start)\n",
        "\n",
        "\n",
        "  # store train loss\n",
        "  t0 = datetime.now()\n",
        "  train_losses.append(get_loss(movie2userrating))\n",
        "\n",
        "  # store test loss\n",
        "  test_losses.append(get_loss(movie2userrating_test))\n",
        "  print(\"calculate cost:\", datetime.now() - t0)\n",
        "  print(\"train loss:\", train_losses[-1])\n",
        "  print(\"test loss:\", test_losses[-1])\n",
        "\n",
        "\n",
        "print(\"train losses:\", train_losses)\n",
        "print(\"test losses:\", test_losses)\n",
        "\n",
        "# plot losses\n",
        "plt.plot(train_losses, label=\"train loss\")\n",
        "plt.plot(test_losses, label=\"test loss\")\n",
        "plt.legend()\n",
        "plt.show()"
      ],
      "metadata": {
        "colab": {
          "base_uri": "https://localhost:8080/",
          "height": 1000
        },
        "id": "DvBnQ_aG7BjX",
        "outputId": "ff5279cd-a944-4cb3-e0ca-8ba7516fe6f5"
      },
      "execution_count": null,
      "outputs": [
        {
          "output_type": "stream",
          "name": "stdout",
          "text": [
            "N: 138437 M: 16234\n",
            "epoch: 0\n",
            "i: 124587 N: 138437\n",
            "updated W and b: 0:00:01.658160\n",
            "updated U and c: 0:00:02.649119\n",
            "epoch duration: 0:00:04.309051\n",
            "calculate cost: 0:00:01.767342\n",
            "train loss: 0.6829113250587309\n",
            "test loss: 0.6989134488331654\n",
            "epoch: 1\n",
            "i: 124587 N: 138437\n",
            "updated W and b: 0:00:02.432760\n",
            "updated U and c: 0:00:02.689218\n",
            "epoch duration: 0:00:05.123483\n",
            "calculate cost: 0:00:00.932451\n",
            "train loss: 0.5575207016090408\n",
            "test loss: 0.5977431235894638\n",
            "epoch: 2\n",
            "i: 124587 N: 138437\n",
            "updated W and b: 0:00:01.653414\n",
            "updated U and c: 0:00:02.643022\n",
            "epoch duration: 0:00:04.297387\n",
            "calculate cost: 0:00:00.901924\n",
            "train loss: 0.5185630243340791\n",
            "test loss: 0.5527919589776482\n",
            "epoch: 3\n",
            "i: 124587 N: 138437\n",
            "updated W and b: 0:00:02.609701\n",
            "updated U and c: 0:00:03.177812\n",
            "epoch duration: 0:00:05.791872\n",
            "calculate cost: 0:00:00.888535\n",
            "train loss: 0.509557666525964\n",
            "test loss: 0.5373507948379019\n",
            "epoch: 4\n",
            "i: 124587 N: 138437\n",
            "updated W and b: 0:00:01.665575\n",
            "updated U and c: 0:00:02.567021\n",
            "epoch duration: 0:00:04.234766\n",
            "calculate cost: 0:00:00.919578\n",
            "train loss: 0.5058467234559165\n",
            "test loss: 0.5321742475917596\n",
            "epoch: 5\n",
            "i: 124587 N: 138437\n",
            "updated W and b: 0:00:01.634759\n",
            "updated U and c: 0:00:04.136737\n",
            "epoch duration: 0:00:05.773896\n",
            "calculate cost: 0:00:00.898608\n",
            "train loss: 0.5040914664262005\n",
            "test loss: 0.5300177642668281\n",
            "epoch: 6\n",
            "i: 124587 N: 138437\n",
            "updated W and b: 0:00:01.646655\n",
            "updated U and c: 0:00:02.564028\n",
            "epoch duration: 0:00:04.212530\n",
            "calculate cost: 0:00:00.890469\n",
            "train loss: 0.5032073456502462\n",
            "test loss: 0.5300522314256351\n",
            "epoch: 7\n",
            "i: 124587 N: 138437\n",
            "updated W and b: 0:00:01.627093\n",
            "updated U and c: 0:00:03.769674\n",
            "epoch duration: 0:00:05.401992\n",
            "calculate cost: 0:00:01.284779\n",
            "train loss: 0.5027124299880232\n",
            "test loss: 0.5304260640562625\n",
            "epoch: 8\n",
            "i: 124587 N: 138437\n",
            "updated W and b: 0:00:01.663926\n",
            "updated U and c: 0:00:02.561252\n",
            "epoch duration: 0:00:04.228130\n",
            "calculate cost: 0:00:00.847993\n",
            "train loss: 0.5023990959759099\n",
            "test loss: 0.5310000067982785\n",
            "epoch: 9\n",
            "i: 124587 N: 138437\n",
            "updated W and b: 0:00:01.644416\n",
            "updated U and c: 0:00:02.598130\n",
            "epoch duration: 0:00:04.243814\n",
            "calculate cost: 0:00:01.755305\n",
            "train loss: 0.5021883259888271\n",
            "test loss: 0.5314743141651934\n",
            "epoch: 10\n",
            "i: 124587 N: 138437\n",
            "updated W and b: 0:00:02.365144\n",
            "updated U and c: 0:00:02.596549\n",
            "epoch duration: 0:00:04.962115\n",
            "calculate cost: 0:00:00.873275\n",
            "train loss: 0.5020397222098204\n",
            "test loss: 0.5319161136715753\n",
            "epoch: 11\n",
            "i: 124587 N: 138437\n",
            "updated W and b: 0:00:01.661362\n",
            "updated U and c: 0:00:02.618423\n",
            "epoch duration: 0:00:04.281365\n",
            "calculate cost: 0:00:00.854758\n",
            "train loss: 0.5019336764180065\n",
            "test loss: 0.5322903784321976\n",
            "epoch: 12\n",
            "i: 124587 N: 138437\n",
            "updated W and b: 0:00:02.418678\n",
            "updated U and c: 0:00:03.489218\n",
            "epoch duration: 0:00:05.910919\n",
            "calculate cost: 0:00:00.876204\n",
            "train loss: 0.5018568796322003\n",
            "test loss: 0.5326279378524591\n",
            "epoch: 13\n",
            "i: 124587 N: 138437\n",
            "updated W and b: 0:00:01.654384\n",
            "updated U and c: 0:00:02.613987\n",
            "epoch duration: 0:00:04.268747\n",
            "calculate cost: 0:00:00.919664\n",
            "train loss: 0.5018011689427067\n",
            "test loss: 0.5329250840575701\n",
            "epoch: 14\n",
            "i: 124587 N: 138437\n",
            "updated W and b: 0:00:02.376349\n",
            "updated U and c: 0:00:05.057860\n",
            "epoch duration: 0:00:07.436914\n",
            "calculate cost: 0:00:00.866116\n",
            "train loss: 0.5017605280809785\n",
            "test loss: 0.5331893055492031\n",
            "epoch: 15\n",
            "i: 124587 N: 138437\n",
            "updated W and b: 0:00:01.692597\n",
            "updated U and c: 0:00:02.533962\n",
            "epoch duration: 0:00:04.228152\n",
            "calculate cost: 0:00:00.881458\n",
            "train loss: 0.5017308103549689\n",
            "test loss: 0.5334214351088254\n",
            "epoch: 16\n",
            "i: 124587 N: 138437\n",
            "updated W and b: 0:00:01.663131\n",
            "updated U and c: 0:00:03.310680\n",
            "epoch duration: 0:00:04.974218\n",
            "calculate cost: 0:00:01.731169\n",
            "train loss: 0.5017090190888339\n",
            "test loss: 0.533623759911096\n",
            "epoch: 17\n",
            "i: 124587 N: 138437\n",
            "updated W and b: 0:00:01.640146\n",
            "updated U and c: 0:00:02.588580\n",
            "epoch duration: 0:00:04.229609\n",
            "calculate cost: 0:00:00.898725\n",
            "train loss: 0.5016929543312499\n",
            "test loss: 0.5337988464213617\n",
            "epoch: 18\n",
            "i: 124587 N: 138437\n",
            "updated W and b: 0:00:01.622520\n",
            "updated U and c: 0:00:02.669700\n",
            "epoch duration: 0:00:04.296961\n",
            "calculate cost: 0:00:01.574540\n",
            "train loss: 0.5016810885532885\n",
            "test loss: 0.5339488189952767\n",
            "epoch: 19\n",
            "i: 124587 N: 138437\n",
            "updated W and b: 0:00:02.652855\n",
            "updated U and c: 0:00:02.494789\n",
            "epoch duration: 0:00:05.148116\n",
            "calculate cost: 0:00:00.851719\n",
            "train loss: 0.5016722482027964\n",
            "test loss: 0.5340767174048234\n",
            "epoch: 20\n",
            "i: 124587 N: 138437\n",
            "updated W and b: 0:00:01.632761\n",
            "updated U and c: 0:00:02.582650\n",
            "epoch duration: 0:00:04.217760\n",
            "calculate cost: 0:00:00.864539\n",
            "train loss: 0.5016656493307913\n",
            "test loss: 0.5341848577111206\n",
            "epoch: 21\n",
            "i: 124587 N: 138437\n",
            "updated W and b: 0:00:02.061147\n",
            "updated U and c: 0:00:03.511359\n",
            "epoch duration: 0:00:05.575819\n",
            "calculate cost: 0:00:00.837068\n",
            "train loss: 0.5016606654907385\n",
            "test loss: 0.5342760125746001\n",
            "epoch: 22\n",
            "i: 124587 N: 138437\n",
            "updated W and b: 0:00:01.734385\n",
            "updated U and c: 0:00:02.577532\n",
            "epoch duration: 0:00:04.313747\n",
            "calculate cost: 0:00:00.876338\n",
            "train loss: 0.5016568918258097\n",
            "test loss: 0.53435233291769\n",
            "epoch: 23\n",
            "i: 124587 N: 138437\n",
            "updated W and b: 0:00:01.659885\n",
            "updated U and c: 0:00:04.257799\n",
            "epoch duration: 0:00:05.919506\n",
            "calculate cost: 0:00:00.949338\n",
            "train loss: 0.5016539929385886\n",
            "test loss: 0.5344160613250594\n",
            "epoch: 24\n",
            "i: 124587 N: 138437\n",
            "updated W and b: 0:00:01.656564\n",
            "updated U and c: 0:00:02.635477\n",
            "epoch duration: 0:00:04.293711\n",
            "calculate cost: 0:00:00.822350\n",
            "train loss: 0.5016517578076664\n",
            "test loss: 0.5344689802277524\n",
            "train losses: [0.6829113250587309, 0.5575207016090408, 0.5185630243340791, 0.509557666525964, 0.5058467234559165, 0.5040914664262005, 0.5032073456502462, 0.5027124299880232, 0.5023990959759099, 0.5021883259888271, 0.5020397222098204, 0.5019336764180065, 0.5018568796322003, 0.5018011689427067, 0.5017605280809785, 0.5017308103549689, 0.5017090190888339, 0.5016929543312499, 0.5016810885532885, 0.5016722482027964, 0.5016656493307913, 0.5016606654907385, 0.5016568918258097, 0.5016539929385886, 0.5016517578076664]\n",
            "test losses: [0.6989134488331654, 0.5977431235894638, 0.5527919589776482, 0.5373507948379019, 0.5321742475917596, 0.5300177642668281, 0.5300522314256351, 0.5304260640562625, 0.5310000067982785, 0.5314743141651934, 0.5319161136715753, 0.5322903784321976, 0.5326279378524591, 0.5329250840575701, 0.5331893055492031, 0.5334214351088254, 0.533623759911096, 0.5337988464213617, 0.5339488189952767, 0.5340767174048234, 0.5341848577111206, 0.5342760125746001, 0.53435233291769, 0.5344160613250594, 0.5344689802277524]\n"
          ]
        },
        {
          "output_type": "display_data",
          "data": {
            "text/plain": [
              "<Figure size 432x288 with 1 Axes>"
            ],
            "image/png": "[encoded data removed]"
          },
          "metadata": {
            "needs_background": "light"
          }
        }
      ]
    },
    {
      "cell_type": "markdown",
      "source": [
        "# Reimplement Matrix Factorization with Keras\n",
        "We can try two versions with tensorflow\n",
        "\n",
        "1. Matrix Factorization with Embedding + Dot product Layer - same algoritm same algorithm as MF\n",
        "\n",
        "2. Deep nerual network - Embedding layers + Dense layers - Tensorflow Implementation"
      ],
      "metadata": {
        "id": "0vrWv89LGmDV"
      }
    },
    {
      "cell_type": "code",
      "source": [
        "import pandas as pd\n",
        "import tensorflow as tf\n",
        "from tensorflow.keras.layers import Embedding, Input\n",
        "from sklearn.model_selection import train_test_split\n",
        "\n",
        "# Load and define params\n",
        "data = pd.read_csv('small_ratings.csv')\n",
        "train, test  = train_test_split(data, test_size = 0.2, shuffle = True)\n",
        "M = data.movieId.max()\n",
        "N = data.userId.max()\n",
        "k = 10\n",
        "reg = 0.1\n",
        "\n",
        "# Define layers\n",
        "x1 = Input(shape = ())\n",
        "x2 = Input(shape = ())  \n",
        "emb1 = Embedding(input_dim = M, output_dim = k)(x1) # Movie weights\n",
        "emb1_b = Embedding(input_dim = M, output_dim = 1)(x1) # Movie biases\n",
        "emb2 = Embedding(input_dim = N, output_dim = k)(x2) # User weights\n",
        "emb2_b = Embedding(input_dim = N, output_dim = 1)(x2) # User biases\n",
        "r = tf.keras.layers.Dot(axes = [1,1])([emb1,emb2])  # Dot product of weights\n",
        "target = tf.keras.layers.add([r, emb1_b, emb2_b]) \n",
        "\n",
        "#Combine layers and combine into keras model\n",
        "model = tf.keras.Model(inputs = [x1,x2], outputs = target)\n",
        "model.compile(loss = 'huber', optimizer = 'sgd',metrics = ['mae'])\n"
      ],
      "metadata": {
        "id": "MVC2isvzcwZc"
      },
      "execution_count": null,
      "outputs": []
    },
    {
      "cell_type": "code",
      "source": [
        "# To account for global mean we can deduct it from the target value\n",
        "mu = train.rating.mean()\n",
        "# Define callback\n",
        "early_stop = tf.keras.callbacks.EarlyStopping(monitor = 'val_loss', patience = 2, restore_best_weights=True)\n",
        "history = model.fit(x = [train.movieId.values, train.userId.values], y = train.rating.values,\n",
        "                    batch_size = 64, epochs = 20,\n",
        "                    validation_data=([test.movieId.values,test.userId.values],test.rating.values),\n",
        "                    callbacks = [early_stop]) "
      ],
      "metadata": {
        "colab": {
          "base_uri": "https://localhost:8080/"
        },
        "id": "7BPFKdLMIulV",
        "outputId": "0912edf0-dc4d-49ae-b483-8f8765f405f8"
      },
      "execution_count": null,
      "outputs": [
        {
          "output_type": "stream",
          "name": "stdout",
          "text": [
            "Epoch 1/20\n",
            "29421/29421 [==============================] - 128s 4ms/step - loss: 2.7859 - mae: 3.2828 - val_loss: 2.5874 - val_mae: 3.0816\n",
            "Epoch 2/20\n",
            "29421/29421 [==============================] - 125s 4ms/step - loss: 2.4045 - mae: 2.8962 - val_loss: 2.2127 - val_mae: 2.7017\n",
            "Epoch 3/20\n",
            "29421/29421 [==============================] - 134s 5ms/step - loss: 2.0381 - mae: 2.5250 - val_loss: 1.8570 - val_mae: 2.3412\n",
            "Epoch 4/20\n",
            "29421/29421 [==============================] - 123s 4ms/step - loss: 1.6956 - mae: 2.1766 - val_loss: 1.5308 - val_mae: 2.0075\n",
            "Epoch 5/20\n",
            "29421/29421 [==============================] - 130s 4ms/step - loss: 1.3886 - mae: 1.8605 - val_loss: 1.2466 - val_mae: 1.7121\n",
            "Epoch 6/20\n",
            "29421/29421 [==============================] - 122s 4ms/step - loss: 1.1287 - mae: 1.5870 - val_loss: 1.0137 - val_mae: 1.4639\n",
            "Epoch 7/20\n",
            "29421/29421 [==============================] - 121s 4ms/step - loss: 0.9216 - mae: 1.3640 - val_loss: 0.8337 - val_mae: 1.2673\n",
            "Epoch 8/20\n",
            "29421/29421 [==============================] - 116s 4ms/step - loss: 0.7644 - mae: 1.1905 - val_loss: 0.6996 - val_mae: 1.1175\n",
            "Epoch 9/20\n",
            "29421/29421 [==============================] - 124s 4ms/step - loss: 0.6484 - mae: 1.0594 - val_loss: 0.6014 - val_mae: 1.0053\n",
            "Epoch 10/20\n",
            "29421/29421 [==============================] - 120s 4ms/step - loss: 0.5634 - mae: 0.9615 - val_loss: 0.5296 - val_mae: 0.9220\n",
            "Epoch 11/20\n",
            "29421/29421 [==============================] - 127s 4ms/step - loss: 0.5012 - mae: 0.8887 - val_loss: 0.4768 - val_mae: 0.8599\n",
            "Epoch 12/20\n",
            "29421/29421 [==============================] - 125s 4ms/step - loss: 0.4552 - mae: 0.8343 - val_loss: 0.4378 - val_mae: 0.8134\n",
            "Epoch 13/20\n",
            "29421/29421 [==============================] - 123s 4ms/step - loss: 0.4211 - mae: 0.7932 - val_loss: 0.4086 - val_mae: 0.7780\n",
            "Epoch 14/20\n",
            "29421/29421 [==============================] - 133s 5ms/step - loss: 0.3954 - mae: 0.7618 - val_loss: 0.3866 - val_mae: 0.7509\n",
            "Epoch 15/20\n",
            "29421/29421 [==============================] - 134s 5ms/step - loss: 0.3759 - mae: 0.7375 - val_loss: 0.3697 - val_mae: 0.7298\n",
            "Epoch 16/20\n",
            "29421/29421 [==============================] - 132s 4ms/step - loss: 0.3608 - mae: 0.7185 - val_loss: 0.3567 - val_mae: 0.7132\n",
            "Epoch 17/20\n",
            "29421/29421 [==============================] - 132s 4ms/step - loss: 0.3491 - mae: 0.7035 - val_loss: 0.3464 - val_mae: 0.6999\n",
            "Epoch 18/20\n",
            "29420/29421 [============================>.] - ETA: 0s - loss: 0.3399 - mae: 0.6915Epoch 19/20\n",
            "29421/29421 [==============================] - 122s 4ms/step - loss: 0.3325 - mae: 0.6817 - val_loss: 0.3318 - val_mae: 0.6806\n",
            "Epoch 20/20\n",
            "29421/29421 [==============================] - 122s 4ms/step - loss: 0.3266 - mae: 0.6737 - val_loss: 0.3265 - val_mae: 0.6735\n"
          ]
        }
      ]
    },
    {
      "cell_type": "code",
      "source": [
        "import matplotlib.pyplot as plt\n",
        "cutoff = 5\n",
        "plt.figure(figsize = (16,8))\n",
        "plt.subplot(1,2,1)\n",
        "plt.plot(history.epoch[cutoff:], history.history['loss'][cutoff:], label = 'Train Huber')\n",
        "plt.plot(history.epoch[cutoff:], history.history['mae'][cutoff:], label = 'Train MAE')\n",
        "plt.legend()\n",
        "plt.subplot(1,2,2)\n",
        "plt.plot(history.epoch[cutoff:], history.history['val_loss'][cutoff:], label = 'Valid Huber')\n",
        "plt.plot(history.epoch[cutoff:], history.history['val_mae'][cutoff:], label = 'Valid MAE')\n",
        "plt.legend()\n",
        "plt.show()"
      ],
      "metadata": {
        "colab": {
          "base_uri": "https://localhost:8080/",
          "height": 483
        },
        "id": "QWFWBSHoMA_n",
        "outputId": "53f29b5c-dfd5-43d7-dbe9-d6a0fdbcf870"
      },
      "execution_count": null,
      "outputs": [
        {
          "output_type": "display_data",
          "data": {
            "text/plain": [
              "<Figure size 1152x576 with 2 Axes>"
            ],
            "image/png": "[encoded data removed]"
          },
          "metadata": {
            "needs_background": "light"
          }
        }
      ]
    },
    {
      "cell_type": "markdown",
      "source": [
        "## ANN Implementation"
      ],
      "metadata": {
        "id": "23Pz8ViitI0J"
      }
    },
    {
      "cell_type": "markdown",
      "source": [
        "Here, instead of using Dot product product layer, we concatenate the user and movie embeddings and add dense layers on top of it. Finally, similar to the previous problem, we add an output layer with single neuron for rating predictions."
      ],
      "metadata": {
        "id": "w9ijO0vc3B0j"
      }
    },
    {
      "cell_type": "code",
      "source": [
        "# Define layers\n",
        "k = 20\n",
        "x1 = Input(shape = ())\n",
        "x2 = Input(shape = ())  \n",
        "\n",
        "emb1 = Embedding(input_dim = M, output_dim = k)(x1) # Movie weights\n",
        "emb2 = Embedding(input_dim = N, output_dim = k)(x2) # User weights\n",
        "emb1 = tf.keras.layers.Flatten()(emb1)\n",
        "emb2 = tf.keras.layers.Flatten()(emb2)\n",
        "emb = tf.keras.layers.concatenate([emb1,emb2])  # Dot product of weights\n",
        "\n",
        "x = tf.keras.layers.Dense(128, 'elu')(emb)\n",
        "target = tf.keras.layers.Dense(1, 'relu')(x)\n",
        "\n",
        "#Combine layers and combine into keras model\n",
        "model = tf.keras.Model(inputs = [x1,x2], outputs = target)\n",
        "model.compile(loss = 'huber', optimizer = 'adam', metrics = ['mse','mae'])\n",
        "model.summary()"
      ],
      "metadata": {
        "colab": {
          "base_uri": "https://localhost:8080/"
        },
        "id": "KA4HfgV5dIhG",
        "outputId": "ff44e8f7-3646-4911-8a9a-72ba6778de52"
      },
      "execution_count": null,
      "outputs": [
        {
          "output_type": "stream",
          "name": "stdout",
          "text": [
            "Model: \"model_15\"\n",
            "__________________________________________________________________________________________________\n",
            " Layer (type)                   Output Shape         Param #     Connected to                     \n",
            "==================================================================================================\n",
            " input_33 (InputLayer)          [(None,)]            0           []                               \n",
            "                                                                                                  \n",
            " input_34 (InputLayer)          [(None,)]            0           []                               \n",
            "                                                                                                  \n",
            " embedding_40 (Embedding)       (None, 20)           324660      ['input_33[0][0]']               \n",
            "                                                                                                  \n",
            " embedding_41 (Embedding)       (None, 20)           2768720     ['input_34[0][0]']               \n",
            "                                                                                                  \n",
            " flatten_4 (Flatten)            (None, 20)           0           ['embedding_40[0][0]']           \n",
            "                                                                                                  \n",
            " flatten_5 (Flatten)            (None, 20)           0           ['embedding_41[0][0]']           \n",
            "                                                                                                  \n",
            " concatenate_14 (Concatenate)   (None, 40)           0           ['flatten_4[0][0]',              \n",
            "                                                                  'flatten_5[0][0]']              \n",
            "                                                                                                  \n",
            " dense_28 (Dense)               (None, 128)          5248        ['concatenate_14[0][0]']         \n",
            "                                                                                                  \n",
            " dense_29 (Dense)               (None, 1)            129         ['dense_28[0][0]']               \n",
            "                                                                                                  \n",
            "==================================================================================================\n",
            "Total params: 3,098,757\n",
            "Trainable params: 3,098,757\n",
            "Non-trainable params: 0\n",
            "__________________________________________________________________________________________________\n"
          ]
        }
      ]
    },
    {
      "cell_type": "code",
      "source": [
        "# Define callback\n",
        "early_stop = tf.keras.callbacks.EarlyStopping(monitor = 'val_loss', patience = 2, restore_best_weights=True)\n",
        "history = model.fit(x = [train.movieId.values, train.userId.values], y = train.rating.values,\n",
        "                    batch_size = 64, epochs = 2,\n",
        "                    validation_data=([test.movieId.values,test.userId.values],test.rating.values),\n",
        "                    callbacks = [early_stop]) "
      ],
      "metadata": {
        "colab": {
          "base_uri": "https://localhost:8080/"
        },
        "id": "mBGovMseuLbT",
        "outputId": "27d2a221-5e63-4d8e-bd76-632629693e68"
      },
      "execution_count": null,
      "outputs": [
        {
          "output_type": "stream",
          "name": "stdout",
          "text": [
            "Epoch 1/2\n",
            "29421/29421 [==============================] - 155s 5ms/step - loss: 0.2978 - mse: 0.6967 - mae: 0.6313 - val_loss: 0.2809 - val_mse: 0.6428 - val_mae: 0.6112\n",
            "Epoch 2/2\n",
            "29421/29421 [==============================] - 156s 5ms/step - loss: 0.2772 - mse: 0.6371 - mae: 0.6049 - val_loss: 0.2739 - val_mse: 0.6248 - val_mae: 0.6021\n"
          ]
        }
      ]
    },
    {
      "cell_type": "markdown",
      "source": [
        "Adding a dense layer and converting the problem to a deep network outperformed the matrix factorization layer without needing to run 20 epochs."
      ],
      "metadata": {
        "id": "cXwQi6kHxhbi"
      }
    },
    {
      "cell_type": "code",
      "source": [],
      "metadata": {
        "id": "81giu5p3NRvz"
      },
      "execution_count": null,
      "outputs": []
    },
    {
      "cell_type": "markdown",
      "source": [
        "# Probabilistic matrix factorization - Bayesian Approach\n",
        "\n",
        "Everthing can be considered as a random variables, even our predictions $r_{ij}$.\n",
        "$$r_{ij}~N(w_i^Tu_j,\\sigma^2)\\\\\n",
        "p(W)=N(0,\\lambda^{-1}), p(u) = N(0,\\lambda^{-1})\\\\\n",
        "p(W,U|R) = \\frac{p(R|W,U)p(W)p(U)}{p(R)}$$\n",
        "\n",
        "I the bayesian paradigm we do not want to point estimates, but the distributions. \n",
        "\n",
        "We want to make predictions using $p(r_{i,j}|R)$. We can calculate $$E(r_{ij}|R) = \\int r_{ij}p(r_{ij}|R) \\mathrm{d}r_{ij}\\\\\n",
        "= \\int r_{ij}p(r_{ij}|W,U)p(W,U|R) \\mathrm{d}W\\mathrm{d}U\\mathrm{d}r_{ij} $$\n",
        "\n",
        "$p(r_{ij}|W,U)$ is our original Gaussian $r_{i,j}~N(w_i^Tu,\\sigma^2)$ $$\\int r_{ij}p(r_{ij}|W,U)\\mathrm{d}r_{ij} = w_i^Tu_j$$ by our modeling assumption.\n",
        "This allows us to simplify the integral as \n",
        "$$E(r_{i,j}|R) = \\int w_i^Tu_jp(W,U|R) \\mathrm{d}W\\mathrm{d}U$$ which is just another expected value, expected value of $w_i^Tu_j$ under the posterior distribuiton of $W$ and $U$. \n",
        "\n",
        "Luckily, this expected value can be approximated as the sample mean as long as the sample is drawn from the desired distribution. The method to do this is called Markov Chain Monte Carlo sampling method, the particular algorithm to do this is Gibb's sampling.\n",
        "\n",
        "$$ E(r_{i,j}|R) = E(w_i^Tu_j|R) = \n",
        "\\frac{1}{T}\\sum_{t=1}^T w_i^{(t)}u_j^{(t)}p$$"
      ],
      "metadata": {
        "id": "JPnpDPP829KD"
      }
    },
    {
      "cell_type": "code",
      "source": [],
      "metadata": {
        "id": "XSDQmkq129dX"
      },
      "execution_count": null,
      "outputs": []
    }
  ]
}