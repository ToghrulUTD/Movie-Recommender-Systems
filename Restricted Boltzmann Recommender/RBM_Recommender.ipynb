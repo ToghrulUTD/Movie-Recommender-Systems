{
  "nbformat": 4,
  "nbformat_minor": 0,
  "metadata": {
    "colab": {
      "provenance": []
    },
    "kernelspec": {
      "name": "python3",
      "display_name": "Python 3"
    },
    "language_info": {
      "name": "python"
    },
    "gpuClass": "standard",
    "accelerator": "TPU"
  },
  "cells": [
    {
      "cell_type": "markdown",
      "source": [
        "# Restricted Boltzman Machines\n",
        "\n",
        "Basic structure of RBM can be considered a single layer of neural network, a single block connecting to the input layer. Input layer and Hidden layer communicates with each other two-way (forward and backward). Input layer or visibile units is denoted as $v$ and hidden layer or hidden units are denoted by $h$. Two-way communication means that we can calculate $p(v|h)$ and $p(h|v)$. For most discussions, we are talking about Bernoulli RBMs, meaning that both input and hidden units can only take values 0 and 1, such as click or not, signup or not, hence most applications are web based. However, this constraint can be relaxed.\n",
        "\n",
        "* How to calculate $h$ from $v$: \n",
        "\\begin{aligned}\n",
        "\\text{Vector form:}\n",
        "\\quad &p(h=1|v) = \\sigma(W^Tv + c)\\\\\n",
        "\\text{Scalar form:}\\quad &p(h_j=1|v)= \\sigma(\\sum_{i=1}^D W_{ij}v_i + c_j) \\quad \\text{i = 1,..,D}\\quad\\text{j = 1,..,M}\\\\\n",
        "&len(v) = D \\quad len(h)=M\n",
        "\\end{aligned}\n",
        "\n",
        "where $W$ and $c$ are weights and biases of the hidden layer. One important feature is that $W$ is the shared weight for 2-way calculation. Similarly, we have\n",
        "\n",
        "\\begin{aligned}\n",
        "\\text{Vector form:}\n",
        "\\quad &p(v=1|h) = \\sigma(Wh + b)\\\\\n",
        "\\text{Scalar form:}\\quad &p(v_i=1|v)= \\sigma(\\sum_{j=1}^D W_{ij}h_j + b_i) \\quad \\text{i = 1,..,D}\\quad\\text{j = 1,..,M}\n",
        "\\end{aligned}\n",
        "\n",
        "This model only gives us the probabilities. $h$ is the random variable, it does not have specific value, but we can draw samples from this distribution.\n",
        "\n",
        "We can relaxt 0,1 restriction of the rbm by scaling the values into 0-1 interval. It is then possible to round the values to 0,1 if we want to work with bernoulli variables. However, there is no restriction on $v$ not taking a value between 0 and 1 for calculating $p(h=1|v)$. Another way to relax the restriction on $h$ is to use the probabilities instead of the sampled value. For instance, we can write\n",
        "\n",
        "\\begin{aligned}\n",
        "\\hat{h}=p(h=1|v) = \\sigma(W^Tv+c)\\\\\n",
        "p(v'=1|h)= \\sigma(W\\hat{h} + b )\n",
        "\\end{aligned}\n",
        "\n",
        "This is similar to the way autoencoder works, if we assume that autoencoder has a sigmoid activation at both in hidden and output layers and it shares the weight metrics between its two layers, then going forward in this autoencoder is same as going to the hidden layer and going back to the visible layer in RBM.\n",
        "\n",
        "If we observe how close input $v$ is close to the output $v'$ by kl-divergence or some crossentropy, this loss function will go down as we train despite directly optimizing for this.\n",
        "\n"
      ],
      "metadata": {
        "id": "SDoRm_nT7ahy"
      }
    },
    {
      "cell_type": "markdown",
      "source": [
        "# Motivation for Boltzman Machines\n",
        "\n",
        "Think about how brain works: Mostly, neurons receives signals from the environment and we integrate that information using our internal pattern recognition in unsupervised manner. \n",
        "\n",
        "RBM is similar to this in a way that we are not imposing any structure on it, where everything can be connected to everything, and some units are hidden and some are visible. Visible  neurons can be considered as connected to outer world like sensory neurons, hidden neurans are not directly connected to outer world but are connected to the sensory neurons.\n",
        "\n",
        "Ludwig Bolzman - statistical mechanics - intuition is that physical systems tend to go to an equilibrium state like from high energy to low energy state. Energy in a boltzman machine is given as \n",
        "$$ E = -\\Bigg(\\sum_{ij} W_{ij}s_is_j + \\sum_{i}b_is_i\\Bigg)$$\n",
        "\n",
        "The goal in training boltzman machine is simply to find a thermal equilibrium (maybe not simple as this but anyways), this expression given above looks very similar to the neural network calculation.\n",
        "\n",
        "In restricted boltzman machines, visible units and hidden units are connected to each other but not neurons of themselves.\n",
        "\n",
        "Energy in the RBM is defined as\n",
        "\n",
        "\\begin{aligned}\n",
        " E(v,h) &= -\\Bigg(\\sum_{i=1}^D\\sum_{j}^M W_{ij}v_ih_j + \\sum_{i=1}^Db_iv_i + \\sum_{j=1}^M c_jh_j\\Bigg) \\quad \\text{or} \\\\\n",
        "E(v,h) &= -\\Bigg(v^TWh + b^Tv +  c^Th\\Bigg)\\\\\n",
        "\\text{where}\\quad v &= NxDxK \\quad h = NxDxK\\quad W=DxKxM\\quad\n",
        "b = DxK \\quad c=M \\quad \\text{(dimensions)}\n",
        "\\end{aligned}\n",
        "\n",
        "Extra $K$ dimension represents the one-hot encoded data. For instance, if we are working with ratings from 1 to 5, we can convert these ratings to a one-hot encoded vector of size 5. For instance rating of 3 would be encoded as [0,0,1,0,0]. For now, we can ignore that dimension as we are not considering non-binary data for mathematical derivations.\n",
        "\n",
        "Next Steps:\n",
        "1. Show how this energy function leads to a probabilistic model\n",
        "\n",
        "2. Show how this probabilistic model leads us to the simple neural network equations shown at the beginning."
      ],
      "metadata": {
        "id": "PMUFFrAlCqsJ"
      }
    },
    {
      "cell_type": "markdown",
      "source": [
        "# Energy --> Probability Model\n",
        "\n",
        "The join probability of $v$ and $h$ is proportional to the negative exponent of energy function.\n",
        "\n",
        "\\begin{aligned}\n",
        "p(v,h)&\\propto e^{-E(v,h)}\\\\\n",
        "p(v,h)& = \\frac{1}{Z}e^{-E(v,h)}\\quad Z = \\sum_{v}\\sum_{h}e^{-E(v,h)} \\\\\n",
        "\\text\n",
        "{so that:}&\\quad \\sum_{v}\\sum_{h}e^{-E(v,h)} p(v,h)= 1\n",
        "\\end{aligned}\n",
        "\n",
        "Why we define probability this way? In statistical mechanics, we have a probability $p_i$ that a system is in a microstate with  energy $E_i$. Through some physics, it can be shown that $p_i$ is proportional to exponent of minus $E_i$ divided by $kT$ where $T$ is a temperature $$ p_i = e^{-E_i/(kT)}\\\\\n",
        "p_i = \\frac{1}{Z} e^{-E_i/(kT)}\\quad Z = \\sum_{i}e^{E_i/(kT)}.$$\n",
        "\n",
        "$Z$ is a normalizing constant and is found by making the sum of probabilities equal to 1. \n",
        "\n",
        "## Challenge\n",
        "A major computation challenge with the RBM equations is that we can not calculate this in a reasonable amount of time. \n",
        "$$p(v,h) = \\frac{1}{Z}e^{-E(v,h)}\\quad Z = \\sum_{v}\\sum_{h}e^{-E(v,h)}$$\n",
        "\n",
        "If $v$ have $D$ dimension and $h$ has $M$ dimension, there are 2^{M+D} possible combinations of bernoulli variables. It can not be calculated practically."
      ],
      "metadata": {
        "id": "HhLro2WoJKyd"
      }
    },
    {
      "cell_type": "markdown",
      "source": [
        "# Probabilistic Model --> Neural Network Equations\n",
        "\n",
        "Using baes rule, we have\n",
        "\\begin{aligned}\n",
        "p(v|h) = p(v,h)/p(h) = p(v,h)/\\sum_{v}p(v,h)\\\\\n",
        "p(h|v) = p(v,h)/p(v)= p(v,h)/\\sum_{h}p(v,h).\n",
        "\\end{aligned}\n",
        "\n",
        "Using $E(v,h) = -(v^TWh + b^Tv +  c^Th)$, we can write this as \n",
        "\\begin{aligned}\n",
        "p(v,h) &= \\frac{1}{Z}\\exp(v^TWh + b^Tv +  c^Th)\\\\\n",
        "p(v) &= \\frac{1}{Z}\\sum_{h}\\exp(v^TWh + b^Tv +  c^Th)\\\\\n",
        "\\implies p(h|v) &= \\frac{\\exp(v^TWh + b^Tv +  c^Th)}{\\sum_{h}\\exp(v^TWh + b^Tv +  c^Th)}\n",
        "\\end{aligned}\n",
        "\n",
        "As we can see, $Z$'s are cancelled out, but we still need to sum over $h$ which is intractable. To simplify further, we can ignore the denominator as it is another normalizing constant. Considering it another $Z'$, we have\n",
        "\\begin{aligned}\n",
        "p(h|v) &= \\frac{1}{Z'}\\exp\\Bigg(\\sum_{i=1}^D\\sum_{j}^M W_{ij}v_ih_j + \\sum_{i=1}^Db_iv_i + \\sum_{j=1}^M c_jh_j\\Bigg)\\\\\n",
        "&= \\frac{1}{Z'}\\exp(\\sum_{i=1}^Db_iv_i) \\prod_{j=1}^M\\exp\\Bigg(h_j\\Bigg\\{\\sum_{i=1}^D W_{ij}v_i + c_j\\Bigg\\}\\Bigg)\\\\\n",
        "&=\\frac{1}{Z''}\\prod_{j=1}^M\\exp\\Bigg(h_j\\Bigg\\{\\sum_{i=1}^D W_{ij}v_i + c_j\\Bigg\\}\\Bigg)\n",
        "\\end{aligned}\n",
        "Since each of the $j$ term is independent, we can write\n",
        "\\begin{aligned}\n",
        "p(h_j|v) &= \\frac{1}{Z'''}\\exp\\Bigg(h_j\\Bigg\\{\\sum_{i=1}^D W_{ij}v_i + c_j\\Bigg\\}\\Bigg)\\\\\n",
        "\\implies p(h_j=1|v) &= \\frac{1}{Z'''}\\exp\\Bigg(\\sum_{i=1}^D W_{ij}v_i + c_j\\Bigg)\\\\\n",
        "\\implies p(h_j=0|v) &= \\frac{1}{Z'''} .\n",
        "\\end{aligned}\n",
        "Since $p(h|v)$ is a valid probability, we must have\n",
        "\\begin{aligned}\n",
        "&p(h_j=0|v) + p(h_j=1|v)=1 \\quad \\implies Z''' = 1+\\exp\\Bigg(\\sum_{i=1}^D W_{ij}v_i + c_j\\Bigg)\n",
        "\\end{aligned}\n",
        "\n",
        "Plugging this value into the probability function, we get \n",
        "\n",
        "\\begin{aligned}\n",
        "p(h=1|v) = \\frac{\\exp\\Bigg(\\sum_{i=1}^D W_{ij}v_i + c_j\\Bigg)}{1+\\exp\\Bigg(\\sum_{i=1}^D W_{ij}v_i + c_j\\Bigg)} &= \\sigma\\Bigg(\\sum_{i=1}^D W_{ij}v_i + c_j\\Bigg) =\\sigma(W^Tv + c)\n",
        "\\end{aligned}\n"
      ],
      "metadata": {
        "id": "XrlFm914ViyK"
      }
    },
    {
      "cell_type": "markdown",
      "source": [
        "# How to Train - Objective and Interpretation\n",
        "\n",
        "We would like to solve Maximum Likelihood Problem where we maximize $p(v)$ given $W$, $b$ and $c$:\n",
        "$$W,b,c = argmax_{W,b,c} \\log p(v; W,b,c).$$\n",
        "\n",
        "The problem with this problem is that the cost function is not tractable because the sum takes to long. \n",
        "\n",
        "We can instead define new quantity called free energy:\n",
        "$$F(v) = -\\log \\sum_{h}e^{-E(v,h)}.\\\\\n",
        "\\sum_{h}e^{-E(v,h)} = e^{-F(v)}.\\\\\n",
        "p(v) = \\frac{1}{Z}\\sum_{h}e^{-E(v,h)} = \\frac{1}{Z}e^{-F(v)} \\quad \\text{and } Z = \\sum_{v}e^{-F(v)}$$\n",
        "\n",
        "Let us pretend, we can do gradient descent such as\n",
        "\\begin{aligned}\n",
        "\\frac{\\partial \\log p(v)}{\\partial\\theta} = \\frac{\\partial}{\\partial \\theta}\\Bigg(-F(v) - \\log Z\\Bigg)=-\\frac{\\partial F(v)}{\\partial \\theta}  - \\frac{1}{Z}\\frac{\\partial Z}{\\partial \\theta}\n",
        "\\end{aligned}\n",
        "Plugging in the expression for $Z$ and rearranging the expression, we get\n",
        "\\begin{aligned}\n",
        "\\frac{\\partial \\log p(v)}{\\partial \\theta}= -\\frac{\\partial F(v)}{\\partial \\theta}  - \\frac{1}{Z}\\sum_{v'}\\frac{\\partial}{\\partial\\theta}e^{-F(v')}\\\\\n",
        "= -\\frac{\\partial F(v)}{\\partial \\theta} + \\sum_{v'}\\frac{1}{Z}e^{-F(v')}\\frac{\\partial F(v')}{\\partial\\theta}\\\\\n",
        "=-\\frac{\\partial F(v)}{\\partial \\theta}  + \\sum_{v'}p(v')\\frac{\\partial F(v')}{\\partial\\theta}.\n",
        "\\end{aligned}\n",
        "Flipping the sing on both sides (maximizing log likelihood is same as minimizing negative log likelihood), we get\n",
        "$$-\\frac{\\partial \\log p(v)}{\\partial \\theta} = \\underbrace{\\frac{\\partial F(v)}{\\partial \\theta}}_{\\text{positive phase}}  - \\underbrace{\\sum_{v'}p(v')\\frac{\\partial F(v')}{\\partial\\theta}}_{\\text{negative phase}} .$$\n",
        "\n",
        "The gradient is made of positive and negative phases. If we are doing stochastic gradient descen (one feature vector at a time), only the first term depends on $v$, and the role it plays is to makes $v$ more likely, i.e., makes our model more likely to produce these $v$ which are the actual observations.\n",
        "Second term does not depend on the feature vector $v$ rather sums over all possible values of $v$. The role of the second term is to make all values of $v$ less likely, and it is weighted by the probability of those values of $v$. So the combined effort is to make the actual value (what we see) more likely while making all other values less likely, especially the values of $v$ which are currently likely but have not been yet observed. So if the model currently performs bad and gives a high probability to a value not observed before, the second term reduces its probability more by weighting it by its current probability"
      ],
      "metadata": {
        "id": "HDLzdbwHhbWn"
      }
    },
    {
      "cell_type": "markdown",
      "source": [
        "# How to train - further simplification\n",
        "\n"
      ],
      "metadata": {
        "id": "jYR6OZvGqIH4"
      }
    },
    {
      "cell_type": "markdown",
      "source": [
        "We can see that the negative phase expression is the expected value of $f(v')$ (gradient of free energy), which allows us to write\n",
        "$$ -\\frac{\\partial \\log p(v)}{\\partial \\theta} = f(v')  - E(f(v)) \\\\\n",
        "E(f(v)) = \\sum_{v'}p(v')f(v')$$\n",
        "We can approximate the expected value by sample mean $$ E(f(v)) = \\frac{\\sum_{n}f(v_n)}{N}$$.\n",
        "\n",
        "The way we generate this samples is Markov Chain Monte Carlo Method (MCMC) - especially Gibbs sampling method. The idea is as following:\n",
        "* Given: $v_1$\n",
        "* Calculate $p(h_1|v_1)$\n",
        "* Sample $h_1\\sim p(h_1|v_1)$\n",
        "* Calculate $p(v_2|h_1)$\n",
        "* Sample $v_2\\sim p(v_2|h_1)$\n",
        "* . . . . .\n",
        "* $v_{\\infty}$ is a sample from $p(v)$\n",
        "\n",
        "The idea is that as we repeat this procedure infinite times $v$ is guaranted to come from true probability distribution.\n",
        "However, usually even 1 step is enough.\n",
        "* $v → p(h|v) → h\\sim p(h|v)→p(v'|h)→v'\\sim p(v'|h)$ or in short $v→h→v'$\n",
        "\n",
        "So now, the approximated gradient becomes the difference between free energy gradients (input v and sample v') $$-\\frac{\\partial \\log p(v)}{\\partial \\theta}  = \\frac{\\partial F(v)}{\\partial \\theta} - \\frac{\\partial F(v')}{\\partial \\theta}$$\n",
        "which is called contrastive divergence ($CD-k$) with $k$ steps of Gibbs sampling performed to get $v'$. The above method is $CD-1$, and it can be changed to see if the result improves.\n",
        "\n",
        "Pseudo Algorithm:\n",
        "```\n",
        "for v in dataset:\n",
        "  p(h=1|v) = sigmoid(W.T.dot(v)+c) # visible to hidden\n",
        "  h = sample_from(p(h=1|v))\n",
        "  p(v'=1|h) = sigmoid(W.dot(h)+b) # hidden to visible\n",
        "  v' = sample_from(p(v'=1|h))\n",
        "  param = param - learning_rate(grad(F(v))-grad(F(v'))) # find approximated grad\n",
        "```\n",
        "\n",
        "Since gradient step is handled automatically by the libraries such as Tensorflow, we just need to define the  loss function (this is not the real loss, just the gradient is what we need) as: $$L = F(v)-F(v')$$.\n",
        "\n",
        "We previously defined free energy $F(v)$ as $$F(v) = -log \\sum_{h}e^{-E(v,h)}$$\n",
        "\n",
        "One way to calculate this in a tractable way is as follows:\n",
        "\\begin{aligned}\n",
        "F(v) &= -log \\sum_{h}e^{v^TWh + b^Tv +  c^Th} = -b^Tv - log \\sum_{h}e^{v^TWh  + c^Th}\\\\\n",
        "&=-b^Tv - log \\sum_{h}\\exp\\Bigg\\{\\sum_{j=1}^{M} v^TW_{:,j}h_j + c_jh_j\\bigg\\} = -b^Tv - log \\sum_{h}\\prod_{j=1}^M \\exp h_j\\Bigg(v^TW_{:,j} + c_j\\bigg) \n",
        "\\end{aligned}\n",
        "\n",
        "Using Sum-Product rule, we can rearrange the above expression as \n",
        "\\begin{aligned}\n",
        "F(v) &= -b^Tv - log \\prod_{j=1}^M\\sum_{h} \\exp h_j\\Bigg(v^TW_{:,j} + c_j\\bigg) = -b^Tv - \\sum_{j=1}^Mlog \\sum_{h_j\\in\\{0,1\\}} \\exp h_j\\Bigg(v^TW_{:,j} + c_j\\bigg) \\\\\n",
        "&= -b^Tv - \\sum_{j=1}^M \\log \\Bigg\\{1+ \\exp\\Bigg(v^TW_{:,j} + c_j\\bigg)\\Bigg\\}.\n",
        "\\end{aligned}\n",
        "\n",
        "\n",
        "Finally, free energy is no longer is intractable, the only summation is over j and it is linear, not exponential."
      ],
      "metadata": {
        "id": "-m2sGVCrADE9"
      }
    },
    {
      "cell_type": "markdown",
      "source": [
        "# Application to Movielens Recommendations\n",
        "\n",
        "Bernoulli RBM does not work since the input is not within the range of [0,1].  In the paper, authors have made the visible units a $k$-class categorical distribution rather than bernoulli distribution. So 10 rating values from 0.5 and 5 are ecnoded to a one-hot vector or dimension 10 for each input rating. The rating 3.5 for instance will be $[0,0,0,0,0,0,1,0,0,0]$. They then use softmax to calculate the probabilities.\n",
        "\n",
        "The calculations become as follows:\n",
        "$$p(h_j=1|v) = \\sigma(\\sum_{k=1}^K\\sum_{i=1}^D W_{ij}^k v_i^k + c_j)\\\\\n",
        "p(v_i^k = 1|h) = softmax(\\sum_{j=1}^M W^k_{ij}h_{j} + b_i)\n",
        "$$\n",
        "\n",
        "* Vector Shapes\n",
        "  *   **h** vector of size M (number of hidden units)\n",
        "  *   **V** 2D array of size D x K - each movie needs its own categorical distribution, so D is the number of movies (number of input units) and K is the number of possible ratings.\n",
        "  *   **W** 3D array of size D x K x M\n",
        "  *   **b** 2D array of size D x K\n",
        "  *   **c** vector of size M\n",
        "\n",
        "In movielens example, we also have $N$ dimension which represents the number of samples (number of users) or batch size, so the size of $V$ and $H$ will be $N x D x K$ and $N x M$.\n",
        "\n",
        "Note that when we sum over both $K$ and $D$, it is not actually dot product ( but double dot product if there is such a thing). \n",
        "\n",
        "With categorical inputs, the free energy expression becomes $$F(v) = -b^Tv - \\sum_{j=1}^M \\log \\Bigg\\{1+ \\exp\\Bigg(v^TW_{:,:,j} + c_j\\bigg)\\Bigg\\}\n",
        "$$\n",
        "\n",
        "We have implicit double-dot operation over $b$ and $W$ in the above expression. To do this, we will use $tf.tensordot$ which allows multiplying 3 dimensional tensors.\n",
        "\n",
        "## How to deal with missing ratings\n",
        "\n",
        "$v_{i,k} = 1$ if a user rates the movie $i$ with $k$ (k corresponds to k/2 rating here).\n",
        "If rating is missing the one-hot vector will be an array of all zeros. If we have a missing rating, we also want the sampled $v'(i)$ to be an array of all zeros. That way free energy at both $v(i)$ and $v'(i)$ will have the same value, and the difference hence the gradient will be 0, and will not change the parameters due to the missing rating.\n",
        "\n",
        "## Rating Predictions\n",
        "\n",
        "After getting probabilities for each rating value (with softmax), we can get a weighted average of the ratings to get the final predicted rating (method used in the paper).\n",
        "\n",
        "Or predicted value may be found by argmax of softmax outputs."
      ],
      "metadata": {
        "id": "5WvSJun9R09Q"
      }
    },
    {
      "cell_type": "markdown",
      "source": [
        "# Implementation\n",
        "\n",
        "1. Preoricess ratings dataframe into sparse matrix\n",
        "\n",
        "2. Build required functions and RBM class\n",
        "\n",
        "3. Train the model"
      ],
      "metadata": {
        "id": "JPrirXtZ1-Ex"
      }
    },
    {
      "cell_type": "markdown",
      "source": [
        "## Preprocess data to sparse matrices\n",
        "\n",
        "The preprocess_sparse.py will load and preprocess data by resetting the movie and user ids. It then creates train and test dataframes from the full dataset, creates sparse matrices for train and test set where rows and columns represents users and movies respectively, and each cell value $x_{ij}$ represent user i's rating for movie j."
      ],
      "metadata": {
        "id": "NqJ0xcvs2Nl8"
      }
    },
    {
      "cell_type": "code",
      "source": [
        "%%writefile preprocess_sparse.py\n",
        "\n",
        "import numpy as np\n",
        "import pandas as pd\n",
        "import matplotlib.pyplot as plt\n",
        "from sklearn.utils import shuffle\n",
        "from scipy.sparse import lil_matrix, csr_matrix, save_npz, load_npz\n",
        "import time\n",
        "import argparse\n",
        "\n",
        "# Create an argument parser\n",
        "parser = argparse.ArgumentParser()\n",
        "\n",
        "# Add arguments\n",
        "parser.add_argument('--input', type=str, default='small_ratings.csv', help='Inpute file path')\n",
        "parser.add_argument('--test_size', type=float, default=0.8, help='Size/fraction of the test set')\n",
        "\n",
        "# Parse arguments\n",
        "args = parser.parse_args()\n",
        "\n",
        "# Execution time\n",
        "start_time = time.time()\n",
        "\n",
        "# Load ratings data\n",
        "df = pd.read_csv(args.input)\n",
        "\n",
        "# Create a mapping to reset user and movie Ids\n",
        "movies = {movie:i for i, movie in enumerate(set(df.movieId.values))}\n",
        "users = {user:i for i, user in enumerate(set(df.userId.values))}\n",
        "\n",
        "# Reset movie and user Ids\n",
        "df['userId'] = df['userId'].apply(lambda x: users[x])\n",
        "df['movieId'] = df['movieId'].apply(lambda x: movies[x])\n",
        "print('\\nLoad and preprocess complete...')\n",
        "\n",
        "N = df.userId.max() + 1 # number of users\n",
        "M = df.movieId.max() + 1 # number of movies\n",
        "\n",
        "# Split data into train and test by 80/20 split\n",
        "df = shuffle(df)\n",
        "cutoff = int(args.test_size*len(df))\n",
        "df_train = df.iloc[:cutoff]\n",
        "df_test = df.iloc[cutoff:]\n",
        "print(f'\\nTrain test split complete...')\n",
        "\n",
        "# Create a sparse rating (users x movies) matrices for train data\n",
        "print('\\nCreating sparse user-movie rating matrixes train and test sets...')\n",
        "start =  time.time()\n",
        "s_train = lil_matrix((N,M)) # lil matrix is best when we need to modify the matrix frequentyly\n",
        "print('\\nUpdating sparse train matrix...')\n",
        "count = 0\n",
        "for row in df_train.values:\n",
        "  count+=1\n",
        "  if count%100000==0: print(\"processed: %.3f \"  % (float(count)/cutoff))\n",
        "  user,movie = row[0], row[1]  # user and movie id\n",
        "  s_train[user,movie] = row[2] # rating\n",
        "\n",
        "# Convert the lil matrix into compressed sparse row matrix\n",
        "s_train = s_train.tocsr() # csr format is best for matrix-vector multiplication operations\n",
        "save_npz(\"train_sparse.npz\", s_train)\n",
        "print(f'\\nExecution time = %.3f seconds' %(time.time() - start))\n",
        "\n",
        "# Create a sparse rating (users x movies) matrices for test data\n",
        "start =  time.time()\n",
        "s_test = lil_matrix((N,M)) \n",
        "print('\\nUpdating sparse test matrix...')\n",
        "count = 0\n",
        "for row in df_test.values:\n",
        "  count+=1\n",
        "  if count % 50000==0: print(\"processed: %.3f \" % (float(count)/len(df_test)))\n",
        "  user,movie = row[0], row[1]  # user and movie id\n",
        "  s_test[user,movie] = row[2] # rating\n",
        "\n",
        "# Convert the lil matrix into compressed sparse row matrix\n",
        "s_test = s_test.tocsr() \n",
        "save_npz(\"test_sparse.npz\", s_test)\n",
        "print(f'\\nExecution time = %.3f seconds' %(time.time() - start))\n",
        "\n",
        "# Print total loading and preprocessing time\n",
        "print(f'\\nTotal execution time = %.3f seconds' %(time.time() - start_time))"
      ],
      "metadata": {
        "colab": {
          "base_uri": "https://localhost:8080/"
        },
        "id": "ahej07HE25FS",
        "outputId": "cf0380ad-d58e-4c41-9b14-9d91db5887a5"
      },
      "execution_count": 1,
      "outputs": [
        {
          "output_type": "stream",
          "name": "stdout",
          "text": [
            "Writing preprocess_sparse.py\n"
          ]
        }
      ]
    },
    {
      "cell_type": "code",
      "source": [
        "# Run the train script\n",
        "!python preprocess_sparse.py --input 'small_ratings.csv' --test_size 0.8 "
      ],
      "metadata": {
        "colab": {
          "base_uri": "https://localhost:8080/"
        },
        "id": "QvEnJQIM1NAJ",
        "outputId": "2f598fde-6700-4334-f8bf-8b118acba117"
      },
      "execution_count": null,
      "outputs": [
        {
          "output_type": "stream",
          "name": "stdout",
          "text": [
            "\n",
            "Load and preprocess complete...\n",
            "\n",
            "Train test split complete...\n",
            "\n",
            "Creating sparse user-movie rating matrixes train and test sets...\n",
            "\n",
            "Updating sparse train matrix...\n",
            "processed: 0.053 \n",
            "processed: 0.106 \n",
            "processed: 0.159 \n",
            "processed: 0.212 \n",
            "processed: 0.266 \n",
            "processed: 0.319 \n",
            "processed: 0.372 \n",
            "processed: 0.425 \n",
            "processed: 0.478 \n",
            "processed: 0.531 \n",
            "processed: 0.584 \n",
            "processed: 0.637 \n",
            "processed: 0.690 \n",
            "processed: 0.744 \n",
            "processed: 0.797 \n",
            "processed: 0.850 \n",
            "processed: 0.903 \n",
            "processed: 0.956 \n",
            "\n",
            "Execution time = 14.656 seconds\n",
            "\n",
            "Updating sparse test matrix...\n",
            "processed: 0.106 \n",
            "processed: 0.212 \n",
            "processed: 0.319 \n",
            "processed: 0.425 \n",
            "processed: 0.531 \n",
            "processed: 0.637 \n",
            "processed: 0.744 \n",
            "processed: 0.850 \n",
            "processed: 0.956 \n",
            "\n",
            "Execution time = 2.942 seconds\n",
            "\n",
            "Total execution time = 24.467 seconds\n"
          ]
        }
      ]
    },
    {
      "cell_type": "markdown",
      "source": [
        "# Build the Model"
      ],
      "metadata": {
        "id": "r8pXoWU-PFDC"
      }
    },
    {
      "cell_type": "code",
      "source": [
        "%%writefile train_sparse.py\n",
        "\n",
        "import numpy as np\n",
        "from datetime import datetime\n",
        "import tensorflow as tf\n",
        "import tensorflow_probability as tfp\n",
        "from scipy.sparse import csr_matrix, load_npz\n",
        "import matplotlib.pyplot as plt\n",
        "import joblib\n",
        "import argparse\n",
        "\n",
        "# Create an argument parser\n",
        "parser = argparse.ArgumentParser()\n",
        "# Add arguments\n",
        "parser.add_argument('--epochs', type = int, default  = 10, help = 'Number of epochs')\n",
        "parser.add_argument('--batch_size', type = int, default = 128, help = 'Batch size')\n",
        "parser.add_argument('--n_neurons', type = int, default = 256, help = 'Size of Hidden layer')\n",
        "parser.add_argument('--cd_k', type = int, default = 1, help = 'Number of steps for Gibbs sampling')\n",
        "parser.add_argument('--learning_rate', type = float, default = 0.01, help = 'Learning rate for training')\n",
        "parser.add_argument('--output_file', type = str, default = 'weights.pkl', help = 'path for saving model weights')\n",
        "\n",
        "# Parse the arguments\n",
        "args = parser.parse_args()\n",
        "\n",
        "# Load sparse train and test matrices\n",
        "ratings = load_npz('train_sparse.npz')\n",
        "test_ratings = load_npz('test_sparse.npz')\n",
        "\n",
        "\n",
        "# Define parameters\n",
        "D = ratings.shape[1]  # Number of movies\n",
        "K = 10  # Number of rating categories (e.g. 1-5 stars)\n",
        "\n",
        "# Access the arguments and assign to parameters \n",
        "M = args.n_neurons  # Number of hidden units\n",
        "batch_size = args.batch_size  # Batch size for training\n",
        "learning_rate = args.learning_rate  # Learning rate for Adam optimizer\n",
        "cd_k = args.cd_k # The number of steps for gibbs sampling\n",
        "epochs = args.epochs  # Number of epochs to train\n",
        "\n",
        "# Define auxilary dot product functions for forward and backward layer calculations \n",
        "def dot1(V, W):\n",
        "    # V is N x D x K (batch of visible units)\n",
        "    # W is D x K x M (weights)\n",
        "    # returns N x M (hidden layer size)\n",
        "    return tf.tensordot(V, W, axes=[[1,2], [0,1]])\n",
        "\n",
        "def dot2(H, W):\n",
        "    # H is N x M (batch of hiddens)\n",
        "    # W is D x K x M (weights transposed)\n",
        "    # returns N x D x K (visible)\n",
        "    return tf.tensordot(H, W, axes=[[1], [2]])\n",
        "\n",
        "# Define the RBM model\n",
        "class RBM(tf.keras.Model):\n",
        "    def __init__(self, D, K, M):\n",
        "        super(RBM, self).__init__()\n",
        "        self.W = tf.Variable(tf.random.normal([D, K, M], stddev= np.sqrt(2/M)))\n",
        "        self.b = tf.Variable(tf.zeros([D, K], dtype = tf.float32))\n",
        "        self.c = tf.Variable(tf.zeros([M],dtype = tf.float32))\n",
        "\n",
        "    def forward_hidden(self, v):\n",
        "        return tf.nn.sigmoid(dot1(v, self.W) + self.c)\n",
        "\n",
        "    def forward_logits(self, v):\n",
        "        Z = self.forward_hidden(v)\n",
        "        return dot2(Z, self.W) + self.b\n",
        "\n",
        "    def forward_output(self, v):\n",
        "        return tf.nn.softmax(self.forward_logits(v))\n",
        "\n",
        "    def call(self, v):\n",
        "        p_h_given_v = self.forward_hidden(v) #tf.nn.sigmoid(dot1(v, self.W) + self.c)\n",
        "        r = tf.random.uniform(shape=tf.shape(input=p_h_given_v))\n",
        "        h = tf.cast(r < p_h_given_v, dtype=tf.float32)\n",
        "        return h, p_h_given_v\n",
        "        \n",
        "    def free_energy(self, v):\n",
        "        first_term = -tf.reduce_sum(input_tensor=dot1(v, self.b))\n",
        "        second_term = -tf.reduce_sum(\n",
        "            # tf.log(1 + tf.exp(tf.matmul(V, self.W) + self.c)),\n",
        "            input_tensor=tf.nn.softplus(dot1(v, self.W) + self.c), axis=1)\n",
        "        return first_term + second_term\n",
        "\n",
        "    def contrastive_divergence(self, v, mask, k=cd_k):\n",
        "        h, p_h_given_v = self.call(v)\n",
        "        for i in range(k):\n",
        "            logits = dot2(h, self.W) + self.b\n",
        "            cdist = tfp.distributions.Categorical(logits = logits)\n",
        "            v = cdist.sample() # shape is (N, D)\n",
        "            v = tf.one_hot(v, depth=K)*mask # turn it into (N, D, K)\n",
        "            h, p_h_given_v = self.call(v)\n",
        "        return v\n",
        "    \n",
        "# Define the RBM model object and optimizer\n",
        "rbm = RBM(D, K, M)\n",
        "optimizer = tf.optimizers.Adam(learning_rate)\n",
        "\n",
        "# Define the training loop\n",
        "n_batch = ratings.shape[0]//batch_size\n",
        "train_test_error = {'train_sse':[], 'test_sse': []}\n",
        "for epoch in range(epochs):\n",
        "    sse_sum, tsse_sum = 0, 0\n",
        "    sse_count, tsse_count = 0, 0\n",
        "    for i in range(0, ratings.shape[0], batch_size):\n",
        "        # Extract the current batch of ratings data and create mask\n",
        "        x = ratings[i:i+batch_size].toarray()\n",
        "        x_hot = tf.one_hot(x*2 - 1, K)\n",
        "        mask2d = tf.cast(x > 0, tf.float32)\n",
        "        mask = tf.stack([mask2d]*K, axis=-1)\n",
        "\n",
        "        # Perform one step of contrastive divergence\n",
        "        with tf.GradientTape() as tape:\n",
        "            v = rbm.contrastive_divergence(x_hot, mask)\n",
        "            cost = tf.reduce_mean(rbm.free_energy(x_hot)) - tf.reduce_mean(rbm.free_energy(v))\n",
        "\n",
        "        # Update the model parameters using the Adam optimizer\n",
        "        grads = tape.gradient(cost, rbm.trainable_variables)\n",
        "        optimizer.apply_gradients(zip(grads, rbm.trainable_variables))\n",
        "\n",
        "        # Calculate train sse\n",
        "        one_to_ten = tf.constant((np.arange(10) + 1).astype(np.float32) / 2)\n",
        "        output_visible = rbm.forward_output(x_hot)\n",
        "        pred = tf.tensordot(output_visible, one_to_ten, axes=[[2], [0]])\n",
        "        sse = tf.reduce_sum(mask2d * (x - pred) * (x - pred))\n",
        "        sse_sum = sse_sum + sse\n",
        "        sse_count = sse_count + tf.reduce_sum(mask2d)\n",
        "\n",
        "        # Calculate the test sse\n",
        "        x_test = test_ratings[i:i+batch_size].toarray()\n",
        "        test_x_hot = tf.one_hot(x_test*2 - 1, K)\n",
        "        test_mask2d = tf.cast(x_test > 0, tf.float32)\n",
        "        tsse = tf.reduce_sum(test_mask2d * (x_test - pred) * (x_test - pred))\n",
        "        tsse_sum = tsse_sum + tsse\n",
        "        tsse_count = tsse_count + tf.reduce_sum(test_mask2d)\n",
        "        train_sse = sse_sum/sse_count\n",
        "        test_sse = tsse_sum/tsse_count\n",
        "\n",
        "    # Append the costs to train_test_error dictionary\n",
        "    train_test_error['train_sse'].append(train_sse.numpy())\n",
        "    train_test_error['test_sse'].append(test_sse.numpy())\n",
        "    print(f'Epoch {epoch + 1}: Train SSE = {train_sse.numpy()} and Test SSE = {test_sse.numpy()}') \n",
        "\n",
        "# Plot mean squared error by epoch\n",
        "try:\n",
        "  assert epochs > 0\n",
        "  plt.figure(figsize = (10,8))\n",
        "  plt.plot(np.arange(epochs), train_test_error['train_sse'], label = 'Train SSE')\n",
        "  plt.plot(np.arange(epochs), train_test_error['test_sse'], label = 'Test SSE')\n",
        "  plt.legend()\n",
        "  plt.savefig('model_performance')\n",
        "except: \n",
        "  print('No history')\n",
        "# Save the model weights\n",
        "joblib.dump(rbm.get_weights(), args.output_file)"
      ],
      "metadata": {
        "colab": {
          "base_uri": "https://localhost:8080/"
        },
        "id": "ICLRACVHNcnq",
        "outputId": "ee5e8b68-1778-4778-c6e8-e83d0909f304"
      },
      "execution_count": 2,
      "outputs": [
        {
          "output_type": "stream",
          "name": "stdout",
          "text": [
            "Writing train_sparse.py\n"
          ]
        }
      ]
    },
    {
      "cell_type": "code",
      "source": [
        "# Run the train script\n",
        "!python train_sparse.py --epochs 10 --batch_size 256 --cd_k 2"
      ],
      "metadata": {
        "colab": {
          "base_uri": "https://localhost:8080/"
        },
        "id": "qkxPnEbi0jo0",
        "outputId": "53257d48-d53f-4782-99cf-b895118e758c"
      },
      "execution_count": null,
      "outputs": [
        {
          "output_type": "stream",
          "name": "stdout",
          "text": [
            "2023-02-27 00:22:22.287417: I tensorflow/core/platform/cpu_feature_guard.cc:193] This TensorFlow binary is optimized with oneAPI Deep Neural Network Library (oneDNN) to use the following CPU instructions in performance-critical operations:  AVX2 FMA\n",
            "To enable them in other operations, rebuild TensorFlow with the appropriate compiler flags.\n",
            "2023-02-27 00:22:23.558941: W tensorflow/compiler/xla/stream_executor/platform/default/dso_loader.cc:64] Could not load dynamic library 'libnvinfer.so.7'; dlerror: libnvinfer.so.7: cannot open shared object file: No such file or directory; LD_LIBRARY_PATH: /usr/local/nvidia/lib:/usr/local/nvidia/lib64\n",
            "2023-02-27 00:22:23.559049: W tensorflow/compiler/xla/stream_executor/platform/default/dso_loader.cc:64] Could not load dynamic library 'libnvinfer_plugin.so.7'; dlerror: libnvinfer_plugin.so.7: cannot open shared object file: No such file or directory; LD_LIBRARY_PATH: /usr/local/nvidia/lib:/usr/local/nvidia/lib64\n",
            "2023-02-27 00:22:23.559066: W tensorflow/compiler/tf2tensorrt/utils/py_utils.cc:38] TF-TRT Warning: Cannot dlopen some TensorRT libraries. If you would like to use Nvidia GPU with TensorRT, please make sure the missing libraries mentioned above are installed properly.\n",
            "2023-02-27 00:22:26.839677: E tensorflow/compiler/xla/stream_executor/cuda/cuda_driver.cc:267] failed call to cuInit: CUDA_ERROR_NO_DEVICE: no CUDA-capable device is detected\n",
            "Epoch 1: Train SSE = 0.7631579041481018 and Test SSE = 0.7920871376991272\n",
            "Epoch 2: Train SSE = 0.6888033151626587 and Test SSE = 0.703596293926239\n",
            "Epoch 3: Train SSE = 0.6465884447097778 and Test SSE = 0.6648276448249817\n",
            "Epoch 4: Train SSE = 0.6219916343688965 and Test SSE = 0.6456611156463623\n",
            "Epoch 5: Train SSE = 0.6038587093353271 and Test SSE = 0.6329625248908997\n",
            "Epoch 6: Train SSE = 0.5891485214233398 and Test SSE = 0.6245360970497131\n",
            "Epoch 7: Train SSE = 0.5756386518478394 and Test SSE = 0.6176710724830627\n",
            "Epoch 8: Train SSE = 0.5625340938568115 and Test SSE = 0.6131972074508667\n",
            "Epoch 9: Train SSE = 0.5498656630516052 and Test SSE = 0.609352707862854\n",
            "Epoch 10: Train SSE = 0.5375365018844604 and Test SSE = 0.6068593263626099\n"
          ]
        }
      ]
    },
    {
      "cell_type": "code",
      "source": [
        "import matplotlib.pyplot as plt\n",
        "\n",
        "plt.figure(figsize = (10,8))\n",
        "img = plt.imread('model_performance.png')\n",
        "plt.imshow(img)\n",
        "plt.axis(False)\n",
        "plt.show()"
      ],
      "metadata": {
        "colab": {
          "base_uri": "https://localhost:8080/",
          "height": 466
        },
        "id": "MhhHlSJr5unb",
        "outputId": "322601bc-e790-48e8-b271-691efd544ba9"
      },
      "execution_count": null,
      "outputs": [
        {
          "output_type": "display_data",
          "data": {
            "text/plain": [
              "<Figure size 720x576 with 1 Axes>"
            ],
            "image/png": "[encoded data removed]"
          },
          "metadata": {
            "needs_background": "light"
          }
        }
      ]
    },
    {
      "cell_type": "markdown",
      "source": [
        "# Recommends Movies to the Specific User"
      ],
      "metadata": {
        "id": "8gjc2tqOYi69"
      }
    },
    {
      "cell_type": "code",
      "source": [
        "%%writefile recommend.py\n",
        "\n",
        "import joblib\n",
        "from scipy.sparse import load_npz\n",
        "import tensorflow as tf\n",
        "import numpy as np\n",
        "import argparse\n",
        "\n",
        "# Create argument parser\n",
        "arg_parser = argparse.ArgumentParser()\n",
        "\n",
        "# Add arguments\n",
        "arg_parser.add_argument('--user_id', type = int, default = 1, help = 'Id of the user')\n",
        "arg_parser.add_argument('--top_n', type = int, default = 10, help = 'The number of movies to recommend' )\n",
        "\n",
        "# Parse argument\n",
        "args = arg_parser.parse_args()\n",
        "\n",
        "# Access the argument\n",
        "user_id = args.user_id\n",
        "n = args.top_n\n",
        "\n",
        "# Load model weights\n",
        "W, b, c = joblib.load('weights.pkl')\n",
        "K = 10\n",
        "ratings = load_npz('train_sparse.npz')\n",
        "N = ratings.shape[0]\n",
        "\n",
        "def dot1(V, W):\n",
        "    # V is N x D x K (batch of visible units)\n",
        "    # W is D x K x M (weights)\n",
        "    # returns N x M (hidden layer size)\n",
        "    return tf.tensordot(V, W, axes=[[1,2], [0,1]])\n",
        "\n",
        "def dot2(H, W):\n",
        "    # H is N x M (batch of hiddens)\n",
        "    # W is D x K x M (weights transposed)\n",
        "    # returns N x D x K (visible)\n",
        "    return tf.tensordot(H, W, axes=[[1], [2]])\n",
        "\n",
        "def forward_hidden(v):\n",
        "    return tf.nn.sigmoid(dot1(v, W) + c)\n",
        "\n",
        "def forward_logits(v):\n",
        "    Z = forward_hidden(v)\n",
        "    return dot2(Z, W) + b\n",
        "\n",
        "def forward_output(v):\n",
        "    return tf.nn.softmax(forward_logits(v))\n",
        "\n",
        "\n",
        "def generate_ranking(user_id):\n",
        "    # Get user ratings \n",
        "    user_rating = ratings[user_id,:].toarray()\n",
        "    user_input = tf.constant(user_rating*2-1, dtype = tf.int32) \n",
        "    # Convert to binary             \n",
        "    user_input_hot = tf.one_hot(user_input, K, dtype = tf.float32)   \n",
        "    # Predict user ratings for all movies                  \n",
        "    one_to_ten = tf.constant((np.arange(10) + 1).astype(np.float32) / 2)                \n",
        "    output_visible = forward_output(user_input_hot)\n",
        "    pred = tf.squeeze(tf.tensordot(output_visible, one_to_ten, axes=[[2], [0]]))\n",
        "    # Get the indices of movies already watched by the user\n",
        "    watched = tf.cast(tf.squeeze(user_rating)>0, dtype = tf.float32)\n",
        "\n",
        "    # Calculate MAE for the user rating\n",
        "    pred_watched = np.where(watched,pred,0)\n",
        "    diff = tf.abs(user_rating - pred_watched)\n",
        "    count = tf.reduce_sum(watched)\n",
        "    mae = tf.reduce_sum(diff).numpy()/count.numpy()\n",
        "    print(f'\\n\\nAverage prediction deviance for user {user_id} = {mae}')\n",
        "\n",
        "    # Rank the unwatched movies by rating in descending order\n",
        "    pred_not_watched = np.where(watched, 0, pred)\n",
        "    print( f'User has watched {int(tf.reduce_sum(watched).numpy())} movies in total')\n",
        "    movie_rating = {movie:rating for movie, rating in enumerate(pred_not_watched)}\n",
        "    top_movies = sorted(movie_rating, key = lambda x: movie_rating[x], reverse = True)\n",
        "    print(f'Top {n} new recommended movies (ids) for the user {user_id} is: {top_movies[:n]}')\n",
        "    return user_input, pred\n",
        "\n",
        "# Get top n recommendations\n",
        "rating_history, predicted_ratings = generate_ranking(user_id)"
      ],
      "metadata": {
        "colab": {
          "base_uri": "https://localhost:8080/"
        },
        "id": "kBMYg0OJ808u",
        "outputId": "31a957fb-ac24-456b-ff34-1aebca6a3d47"
      },
      "execution_count": 3,
      "outputs": [
        {
          "output_type": "stream",
          "name": "stdout",
          "text": [
            "Writing recommend.py\n"
          ]
        }
      ]
    },
    {
      "cell_type": "code",
      "source": [
        "!python recommend.py --user_id 5 --top_n 20"
      ],
      "metadata": {
        "colab": {
          "base_uri": "https://localhost:8080/"
        },
        "id": "aFasXfwZmybG",
        "outputId": "b5725f0d-d1f8-403f-a051-ae158a74783e"
      },
      "execution_count": null,
      "outputs": [
        {
          "output_type": "stream",
          "name": "stdout",
          "text": [
            "2023-02-27 00:31:41.457239: I tensorflow/core/platform/cpu_feature_guard.cc:193] This TensorFlow binary is optimized with oneAPI Deep Neural Network Library (oneDNN) to use the following CPU instructions in performance-critical operations:  AVX2 FMA\n",
            "To enable them in other operations, rebuild TensorFlow with the appropriate compiler flags.\n",
            "2023-02-27 00:31:42.649834: W tensorflow/compiler/xla/stream_executor/platform/default/dso_loader.cc:64] Could not load dynamic library 'libnvinfer.so.7'; dlerror: libnvinfer.so.7: cannot open shared object file: No such file or directory; LD_LIBRARY_PATH: /usr/local/nvidia/lib:/usr/local/nvidia/lib64\n",
            "2023-02-27 00:31:42.649976: W tensorflow/compiler/xla/stream_executor/platform/default/dso_loader.cc:64] Could not load dynamic library 'libnvinfer_plugin.so.7'; dlerror: libnvinfer_plugin.so.7: cannot open shared object file: No such file or directory; LD_LIBRARY_PATH: /usr/local/nvidia/lib:/usr/local/nvidia/lib64\n",
            "2023-02-27 00:31:42.650001: W tensorflow/compiler/tf2tensorrt/utils/py_utils.cc:38] TF-TRT Warning: Cannot dlopen some TensorRT libraries. If you would like to use Nvidia GPU with TensorRT, please make sure the missing libraries mentioned above are installed properly.\n",
            "2023-02-27 00:31:45.946674: E tensorflow/compiler/xla/stream_executor/cuda/cuda_driver.cc:267] failed call to cuInit: CUDA_ERROR_NO_DEVICE: no CUDA-capable device is detected\n",
            "\n",
            "\n",
            "Average prediction deviance for user 5 = 0.4997832969104837\n",
            "User has watched 381 movies in total\n",
            "Top 20 new recommended movies (ids) for the user 5 is: [468, 356, 409, 620, 500, 594, 901, 586, 493, 604, 168, 484, 598, 883, 924, 612, 638, 310, 763, 509]\n"
          ]
        }
      ]
    },
    {
      "cell_type": "code",
      "source": [],
      "metadata": {
        "id": "cCwYecBYm7yh"
      },
      "execution_count": null,
      "outputs": []
    }
  ]
}